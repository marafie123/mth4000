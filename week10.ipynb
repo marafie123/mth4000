"cells": [],
 "metadata": {},
 "nbformat": 4,
 "nbformat_minor": 5

from PIL import Image
from IPython.display import display
print("Mandelbrot set generated via",__vsc_ipynb_file__)
img=Image.effect_mandelbrot((512, 512),(-2.25, -1.5, 0.75, 1.5),100)
display(img)

